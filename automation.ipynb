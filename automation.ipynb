{
 "cells": [
  {
   "cell_type": "code",
   "execution_count": null,
   "metadata": {},
   "outputs": [],
   "source": [
    "from selenium import webdriver\n",
    "from selenium.webdriver.common.by import By\n",
    "from selenium.webdriver.common.keys import Keys\n",
    "from selenium.webdriver.support.select import Select\n",
    "import pandas as pd\n",
    "import time"
   ]
  },
  {
   "cell_type": "code",
   "execution_count": null,
   "metadata": {},
   "outputs": [],
   "source": [
    "## Le os dados da planilha e ve quantos novos usuarios\n",
    "dadosColaboradores = 'Users.xlsx'\n",
    "colaboradoresAdmitidos = pd.read_excel(dadosColaboradores, \"Admitidos\")\n",
    "quantidadeAdmitidos = len(colaboradoresAdmitidos)"
   ]
  },
  {
   "cell_type": "code",
   "execution_count": null,
   "metadata": {},
   "outputs": [],
   "source": [
    "## Entrando no paytrack\n",
    "web = webdriver.Edge()\n",
    "web.maximize_window()\n",
    "web.get('https://login.paytrack.com.br/')"
   ]
  },
  {
   "cell_type": "code",
   "execution_count": null,
   "metadata": {},
   "outputs": [],
   "source": [
    "## Colocando o login\n",
    "authLogin = \"company@email.com.\" \n",
    "XauthLogin = web.find_element(By.XPATH, '//*[@id=\"normal_login_username\"]')\n",
    "XauthLogin.send_keys(authLogin)\n",
    "authLogin_Button = web.find_element(By.XPATH, '//*[@id=\"root\"]/main/div[2]/div[2]/form/div[4]/button')\n",
    "web.execute_script(\"arguments[0].click()\", authLogin_Button)"
   ]
  },
  {
   "cell_type": "code",
   "execution_count": null,
   "metadata": {},
   "outputs": [],
   "source": [
    "## Colocando a senha\n",
    "authPassword = \"milky-exercise-hyped\"\n",
    "XauthPassword = web.find_element(By.XPATH, '//*[@id=\"normal_login_password\"]')\n",
    "XauthPassword.send_keys(authPassword)\n",
    "authPassword_Button = web.find_element(By.XPATH, '//*[@id=\"root\"]/main/div[2]/div[2]/form/div[4]/div/button')\n",
    "web.execute_script(\"arguments[0].click()\", authPassword_Button)"
   ]
  },
  {
   "cell_type": "code",
   "execution_count": null,
   "metadata": {},
   "outputs": [],
   "source": [
    "## Preenchimento do formulário, apenas campos obrigatórios do paytrack e da manchester.\n",
    "for x in range(quantidadeAdmitidos):\n",
    "    ## Navegação a adicionar usuários\n",
    "    web.get('https://app.paytrack.com.br/#/config/usuario')\n",
    "    time.sleep(3)\n",
    "    newUser_Button = web.find_element(By.XPATH, '//*[@id=\"listaUsuario\"]/div[2]/div[1]/div/button')\n",
    "    web.execute_script(\"arguments[0].click()\", newUser_Button)\n",
    "    time.sleep(3)\n",
    "\n",
    "    userLogin = colaboradoresAdmitidos['E/mail manchester'][x]\n",
    "    XuserLogin = web.find_element(By.XPATH, '//*[@id=\"formulario-usuario\"]/div[1]/div[2]/div[1]/input')\n",
    "    XuserLogin.send_keys(userLogin)\n",
    "    \n",
    "    userPassword = \"paytrack\"\n",
    "    XuserPassword = web.find_element(By.XPATH, '//*[@id=\"formulario-usuario\"]/div[1]/div[2]/div[2]/input')\n",
    "    XuserPassword.send_keys(userPassword)\n",
    "    \n",
    "    # nao precisa de parametro pois é um checkbox\n",
    "    XuserPassword_reset = web.find_element(By.ID, \"checkbox-alterar-senha-usuario\")\n",
    "    XuserPassword_reset.click()\n",
    "    \n",
    "    userName = colaboradoresAdmitidos['Nome Completo'][x].split(\" \")[x].strip()\n",
    "    XuserName = web.find_element(By.XPATH, '//*[@id=\"formulario-usuario\"]/div[1]/div[2]/div[5]/input')\n",
    "    XuserName.send_keys(userName)\n",
    "    \n",
    "    userSurname = colaboradoresAdmitidos['Nome Completo'][x].lstrip(userName).strip()\n",
    "    XuserSurname = web.find_element(By.XPATH, '//*[@id=\"formulario-usuario\"]/div[1]/div[2]/div[6]/input')\n",
    "    XuserSurname.send_keys(userSurname)\n",
    "    \n",
    "    userDocument = str(colaboradoresAdmitidos['CPF'][x])\n",
    "    XuserDocument = web.find_element(By.XPATH, '//*[@id=\"formulario-usuario\"]/div[1]/div[4]/div[2]/input')\n",
    "    XuserDocument.send_keys(userDocument)\n",
    "    \n",
    "    userEmail = colaboradoresAdmitidos['E/mail manchester'][x]\n",
    "    XuserEmail = web.find_element(By.XPATH, '//*[@id=\"formulario-usuario\"]/div[1]/div[4]/div[4]/input')\n",
    "    XuserEmail.send_keys(userEmail)\n",
    "    \n",
    "    userCellphone = str(colaboradoresAdmitidos['Número de Telefone'][x]) ## Define-se como string pois o excel pode compreender o valor como numero gerando erro.\n",
    "    XuserCellphone = web.find_element(By.XPATH, '//*[@id=\"formulario-usuario\"]/div[1]/div[4]/div[5]/input')\n",
    "    XuserCellphone.send_keys(userCellphone)\n",
    "    \n",
    "    userCountry = \"Brasil\"\n",
    "    XuserCountry = web.find_element(By.XPATH, '//*[@id=\"formulario-usuario\"]/div[1]/div[4]/div[8]/input')\n",
    "    XuserCountry.send_keys(userCountry)\n",
    "    time.sleep(1)\n",
    "    XuserCountry.send_keys(Keys.ARROW_DOWN)\n",
    "    XuserCountry.send_keys(Keys.ENTER)\n",
    "    \n",
    "    userBranch = colaboradoresAdmitidos['Unidade de negócio'][x]\n",
    "    XuserBranch = Select(web.find_element(By.XPATH, '//*[@id=\"formulario-usuario\"]/div[1]/div[4]/div[10]/select'))\n",
    "    XuserBranch.select_by_value(userBranch)\n",
    "\n",
    "    userCode_SAP = colaboradoresAdmitidos['Código Parceiro de Negócio'][x]\n",
    "    XuserCode_SAP = web.find_element(By.XPATH, '//*[@id=\"infoComplementar\"]/div[2]/input')\n",
    "    XuserCode_SAP.send_keys(userCode_SAP)\n",
    "    \n",
    "    # nao precisa de parametro pois é um botão\n",
    "    XaddUser_Button = web.find_element(By.XPATH, '//*[@id=\"formulario-usuario\"]/div[8]/ui-library-button[2]/div/button')\n",
    "    web.execute_script(\"arguments[0].click()\", XaddUser_Button)\n",
    "    time.sleep(1)"
   ]
  }
 ],
 "metadata": {
  "language_info": {
   "name": "python"
  },
  "orig_nbformat": 4
 },
 "nbformat": 4,
 "nbformat_minor": 2
}
